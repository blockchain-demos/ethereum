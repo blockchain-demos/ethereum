{
 "cells": [
  {
   "cell_type": "markdown",
   "metadata": {},
   "source": [
    "Part 1 - demonstrated how to retrieve metadata about new blocks detected on the ethereum chain.\n",
    "\n",
    "Now let's look at retrieving block metadata and transactions in bulk\n",
    "\n",
    "# Import ethereum tools and test connection\n",
    "web3 is a python library for interacting with Ethereum http://web3py.readthedocs.io/en/stable/"
   ]
  },
  {
   "cell_type": "code",
   "execution_count": 1,
   "metadata": {},
   "outputs": [
    {
     "name": "stdout",
     "output_type": "stream",
     "text": [
      "Latest block: 5616180\n"
     ]
    }
   ],
   "source": [
    "from web3 import Web3, HTTPProvider, IPCProvider\n",
    "\n",
    "gethRPCUrl='http://localhost:8545'\n",
    "web3 = Web3(HTTPProvider(gethRPCUrl))\n",
    "\n",
    "# Retrieve the last block number available from geth RPC\n",
    "currentblock = web3.eth.getBlock('latest').number\n",
    "print(\"Latest block: \" + str(currentblock))"
   ]
  },
  {
   "cell_type": "markdown",
   "metadata": {},
   "source": [
    "### Create some methods to retrieve blocks and transactions as a json\n",
    "**getBlockRange** \n",
    "- Returns a JSON with all block metadata in block range\n",
    "\n",
    "**getTransactionsInRange** \n",
    "- Returns a JSON with all Transactions in block range\n",
    "\n",
    "\n",
    "![eventlogs](https://github.com/blockchain-demos/ethereum/blob/master/02_Retrieving_and_Parsing_Smart_Contract_Events/image.png?raw=true)\n",
    "\n",
    "**getEventsInRange** - Given a block range,\n",
    "- Return all Event Logs for any transactions which produced them\n"
   ]
  },
  {
   "cell_type": "code",
   "execution_count": 2,
   "metadata": {},
   "outputs": [],
   "source": [
    "from hexbytes import HexBytes\n",
    "def getBlockRange(blockstart,blockend):\n",
    "    blocksDict = [ ]  \n",
    "    for block in range(blockstart,blockend):  \n",
    "        blocksDict.append(dict(web3.eth.getBlock(block,full_transactions=False)))\n",
    "    return blocksDict\n",
    "\n",
    "def getTransactionsInRange(blockstart,blockend):\n",
    "    transactions_in_range=[]\n",
    "    for block in range(blockstart,blockend):       \n",
    "        transactions_in_block = web3.eth.getBlock(block,full_transactions=True)['transactions']       \n",
    "        for transaction in transactions_in_block:\n",
    "            cleansesed_transactions=(dict(transaction))\n",
    "            cleansesed_transactions['blockHash'] = HexBytes(transaction['blockHash']).hex()\n",
    "            cleansesed_transactions['hash'] = HexBytes(transaction['hash']).hex()\n",
    "            transactions_in_range.append(cleansesed_transactions)\n",
    "    return transactions_in_range"
   ]
  },
  {
   "cell_type": "code",
   "execution_count": 3,
   "metadata": {},
   "outputs": [],
   "source": [
    "TXS_IN_RANGE=getTransactionsInRange(currentblock-1,currentblock)"
   ]
  },
  {
   "cell_type": "code",
   "execution_count": 4,
   "metadata": {},
   "outputs": [
    {
     "data": {
      "text/plain": [
       "{'blockHash': '0x007b1d77a3e7a9a6f44611e77387572285b9dc91a527587f8411fd063afa9703',\n",
       " 'blockNumber': 5616179,\n",
       " 'chainId': '0x1',\n",
       " 'condition': None,\n",
       " 'creates': None,\n",
       " 'from': '0x390dE26d772D2e2005C6d1d24afC902bae37a4bB',\n",
       " 'gas': 45000,\n",
       " 'gasPrice': 118000000000,\n",
       " 'hash': '0x57d08d537a5db7a39816178f7c758efb316b324f18d5b3876cb0c8a55ca6c70e',\n",
       " 'input': '0x',\n",
       " 'nonce': 400044,\n",
       " 'publicKey': HexBytes('0xa9521966b91992bfa5f5ef494f4891a8b9166f667d9b994ec36942c9523c5ed00890ff5c56e9d6a897b79614c9f0a98b7b731c39adcd7b51902b1a5272d3269f'),\n",
       " 'r': HexBytes('0x9aba7d5068000c7e884777045d05ba1f6d4090b5ac2ba1ff8d18e1977d99ebfb'),\n",
       " 'raw': HexBytes('0xf86f83061aac851b79591c0082afc894e4e6addc635e9d1280ff7568d7be5f7eff14c549881bc16d674ec800008025a09aba7d5068000c7e884777045d05ba1f6d4090b5ac2ba1ff8d18e1977d99ebfba051e5fbb98ede0661bd16a2366142bebc70a5edadc4586014bf0d84392c9eda81'),\n",
       " 's': HexBytes('0x51e5fbb98ede0661bd16a2366142bebc70a5edadc4586014bf0d84392c9eda81'),\n",
       " 'standardV': 0,\n",
       " 'to': '0xe4E6aDDc635e9D1280FF7568d7BE5F7efF14c549',\n",
       " 'transactionIndex': 0,\n",
       " 'v': 37,\n",
       " 'value': 2000000000000000000}"
      ]
     },
     "execution_count": 4,
     "metadata": {},
     "output_type": "execute_result"
    }
   ],
   "source": [
    "TXS_IN_RANGE[0]"
   ]
  },
  {
   "cell_type": "markdown",
   "metadata": {},
   "source": [
    "---\n",
    "A **Smart Contract Code Execution** is recorded as a transaction, with the output of the smart contract method in the `logs[]`. Note, not all transactions will include `logs[]` on the ethereum chain.\n",
    "\n",
    "Lets create a new method:\n",
    "\n",
    "**getAllEventLogs** - Returns a JSON with all transactions including Event Logs for a given block range\n",
    "\n",
    "- NOTE: Web3 Returns `HexBytes` and `AtrributeDict` data types. Lets sanitize the response such that it can be used in kafka/hbase/hive\n",
    "\n"
   ]
  },
  {
   "cell_type": "code",
   "execution_count": 5,
   "metadata": {},
   "outputs": [],
   "source": [
    "def getAllEventLogs(blockstart,blockend):\n",
    "    tx_event_logs = [ ]\n",
    "    for transaction in getTransactionsInRange(blockstart,blockend):\n",
    "        tx_event=dict(web3.eth.getTransactionReceipt(transaction_hash=transaction['hash']))\n",
    "        if(tx_event is not None):\n",
    "            if(tx_event['logs'] is not None and tx_event['logs']):\n",
    "                # Create a new santized_logs json\n",
    "                santized_logs = [ ]\n",
    "                for event_log in tx_event['logs']:\n",
    "                    # AttributeDict -> Dict\n",
    "                    santized_logs.append(dict(event_log))\n",
    "                tx_event['logs'] = santized_logs\n",
    "                # HexBytes -> String\n",
    "                tx_event['transactionHash'] = HexBytes(tx_event['transactionHash']).hex()\n",
    "            \n",
    "                tx_event_logs.append(dict(tx_event))\n",
    "    return tx_event_logs"
   ]
  },
  {
   "cell_type": "code",
   "execution_count": 6,
   "metadata": {},
   "outputs": [],
   "source": [
    "EVENTS_WITH_LOGS=getAllEventLogs(currentblock-1,currentblock)"
   ]
  },
  {
   "cell_type": "code",
   "execution_count": 7,
   "metadata": {},
   "outputs": [
    {
     "data": {
      "text/plain": [
       "{'blockHash': HexBytes('0x007b1d77a3e7a9a6f44611e77387572285b9dc91a527587f8411fd063afa9703'),\n",
       " 'blockNumber': 5616179,\n",
       " 'contractAddress': None,\n",
       " 'cumulativeGasUsed': 79769,\n",
       " 'gasUsed': None,\n",
       " 'logs': [{'address': '0x57aD67aCf9bF015E4820Fbd66EA1A21BED8852eC',\n",
       "   'blockHash': None,\n",
       "   'blockNumber': None,\n",
       "   'data': '0x0000000000000000000000000000000000000000000000d7e8740a38a1c80000',\n",
       "   'logIndex': None,\n",
       "   'topics': [HexBytes('0xddf252ad1be2c89b69c2b068fc378daa952ba7f163c4a11628f55a4df523b3ef'),\n",
       "    HexBytes('0x000000000000000000000000de1c5965c23b7ace63d300a3148b0a085ece75c8'),\n",
       "    HexBytes('0x000000000000000000000000aa11c157d4f97da9b0326f7b0a8533ea31962bc8')],\n",
       "   'transactionHash': None,\n",
       "   'transactionIndex': None,\n",
       "   'transactionLogIndex': None,\n",
       "   'type': 'pending'}],\n",
       " 'logsBloom': HexBytes('0x00000000000000000000000000000000000800000000000000000000000000000000400000000000000000000000000000000000000000008000080000000000000000000000000000000008000000000000000000000000000000000000000000000000000000000400000000000000000000000000000020000010000000000000000000000000000000000000000000000000000000000000000000020000000000000000000000000000000000000000000000000000000000000000000000000002000000000000000000000000000100000000000000000000000000000000000000000000000000000000000000000000000000000000000020000000'),\n",
       " 'root': None,\n",
       " 'status': 1,\n",
       " 'transactionHash': '0x349cce2a100003b7ca1d20eae66a1d488343ed5c5083658f37e788ad57a2563c',\n",
       " 'transactionIndex': 2}"
      ]
     },
     "execution_count": 7,
     "metadata": {},
     "output_type": "execute_result"
    }
   ],
   "source": [
    "# Sample event with 1 method producing logs\n",
    "\n",
    "EVENTS_WITH_LOGS[0]"
   ]
  },
  {
   "cell_type": "code",
   "execution_count": 9,
   "metadata": {},
   "outputs": [
    {
     "data": {
      "text/plain": [
       "{'blockHash': HexBytes('0x007b1d77a3e7a9a6f44611e77387572285b9dc91a527587f8411fd063afa9703'),\n",
       " 'blockNumber': 5616179,\n",
       " 'contractAddress': None,\n",
       " 'cumulativeGasUsed': 172853,\n",
       " 'gasUsed': None,\n",
       " 'logs': [{'address': '0x86Fa049857E0209aa7D9e616F7eb3b3B78ECfdb0',\n",
       "   'blockHash': None,\n",
       "   'blockNumber': None,\n",
       "   'data': '0x000000000000000000000000000000000000000000000000000000000000000000000000000000000000000000000000000000000000000000000000000000400000000000000000000000000000000000000000000000000000000000000044a9059cbb000000000000000000000000c5f43be0e3d4e33002ae10683369a6fb787ccd530000000000000000000000000000000000000000000000104356506b6063f400',\n",
       "   'logIndex': None,\n",
       "   'topics': [HexBytes('0xa9059cbb00000000000000000000000000000000000000000000000000000000'),\n",
       "    HexBytes('0x00000000000000000000000083761c6785427f5a27a07c92a9dcfa99947bc4ad'),\n",
       "    HexBytes('0x000000000000000000000000c5f43be0e3d4e33002ae10683369a6fb787ccd53'),\n",
       "    HexBytes('0x0000000000000000000000000000000000000000000000104356506b6063f400')],\n",
       "   'transactionHash': None,\n",
       "   'transactionIndex': None,\n",
       "   'transactionLogIndex': None,\n",
       "   'type': 'pending'},\n",
       "  {'address': '0x86Fa049857E0209aa7D9e616F7eb3b3B78ECfdb0',\n",
       "   'blockHash': None,\n",
       "   'blockNumber': None,\n",
       "   'data': '0x0000000000000000000000000000000000000000000000104356506b6063f400',\n",
       "   'logIndex': None,\n",
       "   'topics': [HexBytes('0xddf252ad1be2c89b69c2b068fc378daa952ba7f163c4a11628f55a4df523b3ef'),\n",
       "    HexBytes('0x00000000000000000000000083761c6785427f5a27a07c92a9dcfa99947bc4ad'),\n",
       "    HexBytes('0x000000000000000000000000c5f43be0e3d4e33002ae10683369a6fb787ccd53')],\n",
       "   'transactionHash': None,\n",
       "   'transactionIndex': None,\n",
       "   'transactionLogIndex': None,\n",
       "   'type': 'pending'}],\n",
       " 'logsBloom': HexBytes('0x00000000000000000000000000000080000140000000000000000000000000000000000000000000000000000000010000000000000000000000000000000000000000000000000000104008000000000000000000000000000000000000000000000000000000000000000000000000000000000800000000000010000000002000000000000000000000000000000000000000000000100000000000000000000000000000000000000004000040000000000100000000000000000000000000000002000000000000000000000000000800000000000000000002000000000000000000000000000000000000200000000000000000000000000000000000'),\n",
       " 'root': None,\n",
       " 'status': 1,\n",
       " 'transactionHash': '0xf8a05bbc98524d61a6d53261cb7a474672aaf7b0dd678455b118c30789af791a',\n",
       " 'transactionIndex': 4}"
      ]
     },
     "execution_count": 9,
     "metadata": {},
     "output_type": "execute_result"
    }
   ],
   "source": [
    "# Sample event with 2 method invocations within 1 contract, producing logs[] length 2.\n",
    "EVENTS_WITH_LOGS[2]"
   ]
  },
  {
   "cell_type": "code",
   "execution_count": null,
   "metadata": {},
   "outputs": [],
   "source": []
  }
 ],
 "metadata": {
  "kernelspec": {
   "display_name": "Python 3",
   "language": "python",
   "name": "python3"
  },
  "language_info": {
   "codemirror_mode": {
    "name": "ipython",
    "version": 3
   },
   "file_extension": ".py",
   "mimetype": "text/x-python",
   "name": "python",
   "nbconvert_exporter": "python",
   "pygments_lexer": "ipython3",
   "version": "3.5.5"
  }
 },
 "nbformat": 4,
 "nbformat_minor": 2
}
