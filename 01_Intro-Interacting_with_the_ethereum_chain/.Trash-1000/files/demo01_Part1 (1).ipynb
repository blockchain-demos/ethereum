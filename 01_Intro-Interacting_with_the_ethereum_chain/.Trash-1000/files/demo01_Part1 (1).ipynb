{
 "cells": [
  {
   "cell_type": "markdown",
   "metadata": {},
   "source": [
    "# Import ethereum tools and test connection\n",
    "web3 is a python library for interacting with Ethereum http://web3py.readthedocs.io/en/stable/"
   ]
  },
  {
   "cell_type": "code",
   "execution_count": 3,
   "metadata": {},
   "outputs": [
    {
     "name": "stdout",
     "output_type": "stream",
     "text": [
      "Latest block: 5399301\n"
     ]
    }
   ],
   "source": [
    "from web3 import Web3, HTTPProvider, IPCProvider\n",
    "\n",
    "gethRPCUrl='http://192.168.1.225:8545'\n",
    "web3 = Web3(HTTPProvider(gethRPCUrl))\n",
    "\n",
    "# Retrieve the last block number available from geth RPC\n",
    "currentblock = web3.eth.getBlock('latest').number\n",
    "print(\"Latest block: \" + str(currentblock))"
   ]
  },
  {
   "cell_type": "markdown",
   "metadata": {},
   "source": [
    "### Lets retrieve the first block on the Ethereum chain:"
   ]
  },
  {
   "cell_type": "code",
   "execution_count": 4,
   "metadata": {},
   "outputs": [
    {
     "data": {
      "text/plain": [
       "AttributeDict({'difficulty': 17171480576,\n",
       " 'extraData': '0x476574682f76312e302e302f6c696e75782f676f312e342e32',\n",
       " 'gasLimit': 5000,\n",
       " 'gasUsed': 0,\n",
       " 'hash': '0x88e96d4537bea4d9c05d12549907b32561d3bf31f45aae734cdc119f13406cb6',\n",
       " 'logsBloom': '0x00000000000000000000000000000000000000000000000000000000000000000000000000000000000000000000000000000000000000000000000000000000000000000000000000000000000000000000000000000000000000000000000000000000000000000000000000000000000000000000000000000000000000000000000000000000000000000000000000000000000000000000000000000000000000000000000000000000000000000000000000000000000000000000000000000000000000000000000000000000000000000000000000000000000000000000000000000000000000000000000000000000000000000000000000000000',\n",
       " 'miner': '0x05a56e2d52c817161883f50c441c3228cfe54d9f',\n",
       " 'mixHash': '0x969b900de27b6ac6a67742365dd65f55a0526c41fd18e1b16f1a1215c2e66f59',\n",
       " 'nonce': '0x539bd4979fef1ec4',\n",
       " 'number': 1,\n",
       " 'parentHash': '0xd4e56740f876aef8c010b86a40d5f56745a118d0906a34e69aec8c0db1cb8fa3',\n",
       " 'receiptsRoot': '0x56e81f171bcc55a6ff8345e692c0f86e5b48e01b996cadc001622fb5e363b421',\n",
       " 'sha3Uncles': '0x1dcc4de8dec75d7aab85b567b6ccd41ad312451b948a7413f0a142fd40d49347',\n",
       " 'size': 537,\n",
       " 'stateRoot': '0xd67e4d450343046425ae4271474353857ab860dbc0a1dde64b41b5cd3a532bf3',\n",
       " 'timestamp': 1438269988,\n",
       " 'totalDifficulty': 34351349760,\n",
       " 'transactions': [],\n",
       " 'transactionsRoot': '0x56e81f171bcc55a6ff8345e692c0f86e5b48e01b996cadc001622fb5e363b421',\n",
       " 'uncles': []})"
      ]
     },
     "execution_count": 4,
     "metadata": {},
     "output_type": "execute_result"
    }
   ],
   "source": [
    "web3.eth.getBlock(1,full_transactions=True)"
   ]
  },
  {
   "cell_type": "markdown",
   "metadata": {},
   "source": [
    "**Notice the empty list of transactions: ** \n",
    "```\n",
    "'transactions': [],\n",
    "```\n",
    "\n",
    "We can find the **first transaction** posted to the blockchain via:\n",
    "```\n",
    "for x in range(0,50000):\n",
    "    if len(dict(web3.eth.getBlock(x))['transactions']) > 0:\n",
    "        print(\"First block with transactions: \" + str(x))\n",
    "        break\n",
    "        \n",
    "```\n",
    "However this query could take 1-2 hours for geth to retrieve these historical blocks, as not many peers will have the full (~1TB) Chain synced. Most peers run in \"light\" mode, allowing them to go to the latest block first.\n",
    "\n",
    "First block with transactions: 46147\n",
    "        \n",
    "```"
   ]
  },
  {
   "cell_type": "code",
   "execution_count": 54,
   "metadata": {},
   "outputs": [
    {
     "data": {
      "text/plain": [
       "{'difficulty': 1458282699709,\n",
       " 'extraData': '0x657468706f6f6c2e6f7267',\n",
       " 'gasLimit': 21003,\n",
       " 'gasUsed': 21000,\n",
       " 'hash': '0x4e3a3754410177e6937ef1f84bba68ea139e8d1a2258c5f85db9f1cd715a1bdd',\n",
       " 'logsBloom': '0x00000000000000000000000000000000000000000000000000000000000000000000000000000000000000000000000000000000000000000000000000000000000000000000000000000000000000000000000000000000000000000000000000000000000000000000000000000000000000000000000000000000000000000000000000000000000000000000000000000000000000000000000000000000000000000000000000000000000000000000000000000000000000000000000000000000000000000000000000000000000000000000000000000000000000000000000000000000000000000000000000000000000000000000000000000000',\n",
       " 'miner': '0xe6a7a1d47ff21b6321162aea7c6cb457d5476bca',\n",
       " 'mixHash': '0xb48c515a9dde8d346c3337ea520aa995a4738bb595495506125449c1149d6cf4',\n",
       " 'nonce': '0xba4f8ecd18aab215',\n",
       " 'number': 46147,\n",
       " 'parentHash': '0x5a41d0e66b4120775176c09fcf39e7c0520517a13d2b57b18d33d342df038bfc',\n",
       " 'receiptsRoot': '0xfe2bf2a941abf41d72637e5b91750332a30283efd40c424dc522b77e6f0ed8c4',\n",
       " 'sha3Uncles': '0x1dcc4de8dec75d7aab85b567b6ccd41ad312451b948a7413f0a142fd40d49347',\n",
       " 'size': 634,\n",
       " 'stateRoot': '0x0e0df2706b0a4fb8bd08c9246d472abbe850af446405d9eba1db41db18b4a169',\n",
       " 'timestamp': 1438918233,\n",
       " 'totalDifficulty': 42684150077831833,\n",
       " 'transactions': [AttributeDict({'blockHash': '0x4e3a3754410177e6937ef1f84bba68ea139e8d1a2258c5f85db9f1cd715a1bdd',\n",
       "   'blockNumber': 46147,\n",
       "   'from': '0xA1E4380A3B1f749673E270229993eE55F35663b4',\n",
       "   'gas': 21000,\n",
       "   'gasPrice': 50000000000000,\n",
       "   'hash': '0x5c504ed432cb51138bcf09aa5e8a410dd4a1e204ef84bfed1be16dfba1b22060',\n",
       "   'input': '0x',\n",
       "   'nonce': 0,\n",
       "   'r': '0x88ff6cf0fefd94db46111149ae4bfc179e9b94721fffd821d38d16464b3f71d0',\n",
       "   's': '0x45e0aff800961cfce805daef7016b9b675c137a6a41a548f7b60a3484c06a33a',\n",
       "   'to': '0x5DF9B87991262F6BA471F09758CDE1c0FC1De734',\n",
       "   'transactionIndex': 0,\n",
       "   'v': '0x1c',\n",
       "   'value': 31337})],\n",
       " 'transactionsRoot': '0x4513310fcb9f6f616972a3b948dc5d547f280849a87ebb5af0191f98b87be598',\n",
       " 'uncles': []}"
      ]
     },
     "execution_count": 54,
     "metadata": {},
     "output_type": "execute_result"
    }
   ],
   "source": [
    "dict(web3.eth.getBlock(46147,full_transactions=True))"
   ]
  },
  {
   "cell_type": "markdown",
   "metadata": {},
   "source": [
    "We can define a method **getBlockRange** to retrieve block metadata for each block in a range"
   ]
  },
  {
   "cell_type": "code",
   "execution_count": 51,
   "metadata": {},
   "outputs": [
    {
     "name": "stdout",
     "output_type": "stream",
     "text": [
      "First block with transactions: 46147\n"
     ]
    }
   ],
   "source": [
    "#dict(web3.eth.getBlock(1000))\n",
    "for x in range(46146,50000):\n",
    "    if len(dict(web3.eth.getBlock(x))['transactions']) > 0:\n",
    "        print(\"First block with transactions: \" + str(x))\n",
    "        break\n"
   ]
  },
  {
   "cell_type": "code",
   "execution_count": 38,
   "metadata": {},
   "outputs": [
    {
     "data": {
      "text/plain": [
       "{'difficulty': 1458282699709,\n",
       " 'extraData': '0x657468706f6f6c2e6f7267',\n",
       " 'gasLimit': 21003,\n",
       " 'gasUsed': 21000,\n",
       " 'hash': '0x4e3a3754410177e6937ef1f84bba68ea139e8d1a2258c5f85db9f1cd715a1bdd',\n",
       " 'logsBloom': '0x00000000000000000000000000000000000000000000000000000000000000000000000000000000000000000000000000000000000000000000000000000000000000000000000000000000000000000000000000000000000000000000000000000000000000000000000000000000000000000000000000000000000000000000000000000000000000000000000000000000000000000000000000000000000000000000000000000000000000000000000000000000000000000000000000000000000000000000000000000000000000000000000000000000000000000000000000000000000000000000000000000000000000000000000000000000',\n",
       " 'miner': '0xe6a7a1d47ff21b6321162aea7c6cb457d5476bca',\n",
       " 'mixHash': '0xb48c515a9dde8d346c3337ea520aa995a4738bb595495506125449c1149d6cf4',\n",
       " 'nonce': '0xba4f8ecd18aab215',\n",
       " 'number': 46147,\n",
       " 'parentHash': '0x5a41d0e66b4120775176c09fcf39e7c0520517a13d2b57b18d33d342df038bfc',\n",
       " 'receiptsRoot': '0xfe2bf2a941abf41d72637e5b91750332a30283efd40c424dc522b77e6f0ed8c4',\n",
       " 'sha3Uncles': '0x1dcc4de8dec75d7aab85b567b6ccd41ad312451b948a7413f0a142fd40d49347',\n",
       " 'size': 634,\n",
       " 'stateRoot': '0x0e0df2706b0a4fb8bd08c9246d472abbe850af446405d9eba1db41db18b4a169',\n",
       " 'timestamp': 1438918233,\n",
       " 'totalDifficulty': 42684150077831833,\n",
       " 'transactions': ['0x5c504ed432cb51138bcf09aa5e8a410dd4a1e204ef84bfed1be16dfba1b22060'],\n",
       " 'transactionsRoot': '0x4513310fcb9f6f616972a3b948dc5d547f280849a87ebb5af0191f98b87be598',\n",
       " 'uncles': []}"
      ]
     },
     "execution_count": 38,
     "metadata": {},
     "output_type": "execute_result"
    }
   ],
   "source": [
    "dict(web3.eth.getBlock(46147))\n",
    "for block in range(blockstart,blockend):\n",
    "    lastFullBlock=dict(web3.eth.getBlock(block,))"
   ]
  },
  {
   "cell_type": "code",
   "execution_count": null,
   "metadata": {},
   "outputs": [],
   "source": [
    "def getBlockRange(blockstart,blockend):\n",
    "    for block in range(blockstart,blockend):\n",
    "        lastFullBlock=dict(web3.eth.getBlock(block))\n",
    "        return lastFullBlock"
   ]
  },
  {
   "cell_type": "code",
   "execution_count": null,
   "metadata": {},
   "outputs": [],
   "source": [
    "lastFullBlock = getBlockRange(currentblock-1,currentblock)\n",
    "lastFullBlock"
   ]
  },
  {
   "cell_type": "code",
   "execution_count": null,
   "metadata": {},
   "outputs": [],
   "source": [
    "print(\"Print schema of a given block. Note this does not include block txn logs\")\n",
    "lastFullBlock.keys()"
   ]
  },
  {
   "cell_type": "markdown",
   "metadata": {},
   "source": [
    "# Retrieve JWT Token for testuser"
   ]
  },
  {
   "cell_type": "code",
   "execution_count": null,
   "metadata": {},
   "outputs": [],
   "source": [
    "import requests\n",
    "from requests.auth import HTTPBasicAuth\n",
    "import json\n",
    "\n",
    "mapr_rest_auth = 'https://172.16.9.238:8243/auth/v2/token'\n",
    "headers = {'content-type': 'application/json'}\n",
    "bearerToken = None\n",
    "\n",
    "try:\n",
    "    bearerToken = requests.post(\n",
    "            mapr_rest_auth, \n",
    "            headers=headers, verify=False,\n",
    "            auth=HTTPBasicAuth('testuser', 'testuser')\n",
    "        ).json()\n",
    "except requests.exceptions.ConnectionError as e:\n",
    "    pass"
   ]
  },
  {
   "cell_type": "code",
   "execution_count": null,
   "metadata": {},
   "outputs": [],
   "source": [
    "bearerToken"
   ]
  },
  {
   "cell_type": "code",
   "execution_count": null,
   "metadata": {},
   "outputs": [],
   "source": [
    "headers = { \n",
    "'content-type': 'application/json', \n",
    "'Authorization': 'Bearer '+bearerToken['token'] \n",
    "} \n",
    "headers"
   ]
  },
  {
   "cell_type": "markdown",
   "metadata": {},
   "source": [
    "## Create a table in maprdb"
   ]
  },
  {
   "cell_type": "code",
   "execution_count": null,
   "metadata": {},
   "outputs": [],
   "source": [
    "# Create a table\n",
    "rest_put_url = 'https://172.16.9.238:8243/api/v2/table/%2Fuser%2Ftestuser%2Fall_blocks'\n",
    "response = None\n",
    "\n",
    "try:\n",
    "    response = requests.put(\n",
    "            rest_put_url, \n",
    "            headers=headers, verify=False\n",
    "        )\n",
    "    print(response)\n",
    "except requests.exceptions.ConnectionError as e:\n",
    "    pass"
   ]
  },
  {
   "cell_type": "markdown",
   "metadata": {},
   "source": [
    "# Insert vbl"
   ]
  },
  {
   "cell_type": "code",
   "execution_count": null,
   "metadata": {},
   "outputs": [],
   "source": [
    "def getBlockRangeAndInsertToDB(blockstart,blockend,table):\n",
    "    for block in range(blockstart,blockend):\n",
    "        global lastFullBlock\n",
    "        lastFullBlock=dict(web3.eth.getBlock(block))\n",
    "\n",
    "        #print(\"Inserting to maprdb\")\n",
    "        print(lastFullBlock['number'])\n",
    "        rest_put_url = 'https://172.16.9.238:8243/api/v2/table/%2Fuser%2Ftestuser%2F'+table\n",
    "        response = None\n",
    "      # print(lastFullBlock)\n",
    "        try:\n",
    "            lastFullBlock['_id']=lastFullBlock['hash']\n",
    "            lastFullBlock\n",
    "            response = requests.post(\n",
    "                rest_put_url, \n",
    "                headers=headers, verify=False,\n",
    "                data=json.dumps(lastFullBlock)\n",
    "            )\n",
    "        except requests.exceptions.ConnectionError as e:\n",
    "            print(e)\n",
    "            pass\n"
   ]
  },
  {
   "cell_type": "code",
   "execution_count": null,
   "metadata": {},
   "outputs": [],
   "source": [
    "# Supress warnings so we dont OOM the notebook browser\n",
    "import urllib3\n",
    "urllib3.disable_warnings(urllib3.exceptions.InsecureRequestWarning)\n"
   ]
  },
  {
   "cell_type": "code",
   "execution_count": null,
   "metadata": {},
   "outputs": [],
   "source": [
    "currentblock = web3.eth.getBlock('latest').number\n",
    "\n",
    "getBlockRangeAndInsertToDB(blockstart=currentblock-50000,\n",
    "                           blockend=currentblock,\n",
    "                          table=\"all_blocks\")"
   ]
  },
  {
   "cell_type": "code",
   "execution_count": null,
   "metadata": {},
   "outputs": [],
   "source": []
  },
  {
   "cell_type": "code",
   "execution_count": null,
   "metadata": {},
   "outputs": [],
   "source": []
  },
  {
   "cell_type": "code",
   "execution_count": null,
   "metadata": {},
   "outputs": [],
   "source": []
  },
  {
   "cell_type": "code",
   "execution_count": null,
   "metadata": {},
   "outputs": [],
   "source": []
  },
  {
   "cell_type": "code",
   "execution_count": null,
   "metadata": {},
   "outputs": [],
   "source": [
    "def getBlockRangeAndInsertToDB(blockstart,blockend):\n",
    "    for block in range(blockstart,blockend):\n",
    "        global lastFullBlock\n",
    "        lastFullBlock=dict(web3.eth.getBlock(block))\n",
    "        \n",
    "#       insert cb into whatever if fits into here. giggity.\n",
    "\n",
    "    # Insert to table\n",
    "        print(\"Inserting to maprdb\")\n",
    "        print(lastFullBlock['number'])\n",
    "        rest_put_url = 'https://172.16.9.238:8243/api/v2/table/%2Fuser%2Ftestuser%2Fed_trades2'\n",
    "        response = None\n",
    "        \n",
    "        try:\n",
    "            response = requests.post(\n",
    "                rest_put_url, \n",
    "                headers=headers, verify=False,\n",
    "                data=json.dumps(lastFullBlock)\n",
    "            )\n",
    "            print(response)\n",
    "        except requests.exceptions.ConnectionError as e:\n",
    "            pass\n"
   ]
  },
  {
   "cell_type": "code",
   "execution_count": null,
   "metadata": {},
   "outputs": [],
   "source": []
  },
  {
   "cell_type": "code",
   "execution_count": null,
   "metadata": {},
   "outputs": [],
   "source": []
  },
  {
   "cell_type": "code",
   "execution_count": null,
   "metadata": {},
   "outputs": [],
   "source": [
    "# data later\n",
    "payload=[{\"_id\":\"003\", \"methodid\": \"0x0a19b14a\", \"tokenGet\": \"8f8221afbb33998d8584a2b05749ba73c37a938a\", \"amountGet\": \"8d726b7177a80000\", \"tokenGive\": \"00000\", \"amountGive\": \"801348b4272002\", \"expires\": \"043a944\", \"nonce\": \"00b2b4064b\", \"user\": \"004be7bced82b314ad60dc69274a75757e7d5d93a3\", \"v\": \"000001b\", \"r\": \"a19a9e9b480cb7f37cf8073b77975e6813c46b538a403cc4a60fd4cf9cd66795\", \"s\": \"3d52b419c2a90413253d28f72b94ef55c32bfd33dcaef9837a7b647462f73999\", \"amount\": \"00000000000000000000000000000000000000000000000d8d726b7177a80000\"}]\n",
    "data=json.dumps(payload)\n",
    "data"
   ]
  },
  {
   "cell_type": "code",
   "execution_count": null,
   "metadata": {},
   "outputs": [],
   "source": [
    "# Insert to table\n",
    "rest_put_url = 'https://172.16.9.238:8243/api/v2/table/%2Fuser%2Ftestuser%2Fed_trades2'\n",
    "response = None\n",
    "\n",
    "try:\n",
    "    response = requests.post(\n",
    "            rest_put_url, \n",
    "            headers=headers, verify=False,\n",
    "            data=json.dumps(payload)\n",
    "        )\n",
    "    print(response)\n",
    "except requests.exceptions.ConnectionError as e:\n",
    "    pass"
   ]
  },
  {
   "cell_type": "code",
   "execution_count": null,
   "metadata": {},
   "outputs": [],
   "source": [
    "# GET a table\n",
    "rest_put_url = 'https://172.16.9.238:8243/api/v2/table/%2Fuser%2Ftestuser%2Fed_trades2'\n",
    "bearerToken = None\n",
    "\n",
    "try:\n",
    "    table = requests.get(\n",
    "            mapr_rest_auth, \n",
    "            headers=headers, verify=False,\n",
    "            auth=HTTPBasicAuth('testuser', 'testuser')\n",
    "        ).json()\n",
    "    print(table)\n",
    "except requests.exceptions.ConnectionError as e:\n",
    "    pass"
   ]
  },
  {
   "cell_type": "code",
   "execution_count": null,
   "metadata": {},
   "outputs": [],
   "source": [
    "def getBlockRangeAndInsertToDB(blockstart,blockend):\n",
    "    for block in range(blockstart,blockend):\n",
    "        global lastFullBlock\n",
    "        lastFullBlock=dict(web3.eth.getBlock(block))\n",
    "        \n",
    "#       insert cb into whatever if fits into here. giggity.\n",
    "\n",
    "    # Insert to table\n",
    "        print(\"Inserting to maprdb\")\n",
    "        print(lastFullBlock['number'])\n",
    "        rest_put_url = 'https://172.16.9.238:8243/api/v2/table/%2Fuser%2Ftestuser%2Fed_trades2'\n",
    "        response = None\n",
    "        \n",
    "        try:\n",
    "            response = requests.post(\n",
    "                rest_put_url, \n",
    "                headers=headers, verify=False,\n",
    "                data=json.dumps(lastFullBlock)\n",
    "            )\n",
    "            print(response)\n",
    "        except requests.exceptions.ConnectionError as e:\n",
    "            pass\n",
    "\n",
    "        "
   ]
  },
  {
   "cell_type": "code",
   "execution_count": null,
   "metadata": {},
   "outputs": [],
   "source": [
    "getBlockRangeAndInsertToDB(currentblock-5,currentblock)"
   ]
  },
  {
   "cell_type": "code",
   "execution_count": null,
   "metadata": {},
   "outputs": [],
   "source": [
    "!pip show web3"
   ]
  },
  {
   "cell_type": "code",
   "execution_count": null,
   "metadata": {},
   "outputs": [],
   "source": []
  }
 ],
 "metadata": {
  "kernelspec": {
   "display_name": "Python 3",
   "language": "python",
   "name": "python3"
  },
  "language_info": {
   "codemirror_mode": {
    "name": "ipython",
    "version": 3
   },
   "file_extension": ".py",
   "mimetype": "text/x-python",
   "name": "python",
   "nbconvert_exporter": "python",
   "pygments_lexer": "ipython3",
   "version": "3.6.5"
  }
 },
 "nbformat": 4,
 "nbformat_minor": 2
}
