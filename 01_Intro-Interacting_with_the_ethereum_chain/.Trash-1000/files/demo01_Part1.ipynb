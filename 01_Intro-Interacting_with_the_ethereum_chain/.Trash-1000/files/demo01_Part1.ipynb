{
 "cells": [
  {
   "cell_type": "code",
   "execution_count": 1,
   "metadata": {},
   "outputs": [],
   "source": [
    "from web3 import Web3, HTTPProvider, IPCProvider\n",
    "\n",
    "gethRPCUrl='http://192.168.1.185:8545'\n",
    "web3 = Web3(HTTPProvider(gethRPCUrl))\n",
    "currentblock = web3.eth.getBlock('latest').number\n"
   ]
  },
  {
   "cell_type": "code",
   "execution_count": 10,
   "metadata": {},
   "outputs": [],
   "source": [
    "cb=None\n",
    "def getBlockRange(blockstart,blockend):\n",
    "    for block in range(blockstart,blockend):\n",
    "        global cb\n",
    "        cb=dict(web3.eth.getBlock(block))\n",
    "#       insert cb into whatever if fits into here. giggity.\n",
    "\n",
    "        print(\"Print schema of a given block. Note this does not include block txn logs\")\n",
    "        print(cb.keys())"
   ]
  },
  {
   "cell_type": "code",
   "execution_count": 11,
   "metadata": {},
   "outputs": [
    {
     "name": "stdout",
     "output_type": "stream",
     "text": [
      "Print schema of a given block. Note this does not include block txn logs\n",
      "dict_keys(['author', 'difficulty', 'extraData', 'gasLimit', 'gasUsed', 'hash', 'logsBloom', 'miner', 'mixHash', 'nonce', 'number', 'parentHash', 'receiptsRoot', 'sealFields', 'sha3Uncles', 'size', 'stateRoot', 'timestamp', 'totalDifficulty', 'transactions', 'transactionsRoot', 'uncles'])\n"
     ]
    }
   ],
   "source": [
    "getBlockRange(currentblock-1,currentblock)"
   ]
  },
  {
   "cell_type": "code",
   "execution_count": 12,
   "metadata": {},
   "outputs": [
    {
     "data": {
      "text/plain": [
       "dict_keys(['author', 'difficulty', 'extraData', 'gasLimit', 'gasUsed', 'hash', 'logsBloom', 'miner', 'mixHash', 'nonce', 'number', 'parentHash', 'receiptsRoot', 'sealFields', 'sha3Uncles', 'size', 'stateRoot', 'timestamp', 'totalDifficulty', 'transactions', 'transactionsRoot', 'uncles'])"
      ]
     },
     "execution_count": 12,
     "metadata": {},
     "output_type": "execute_result"
    }
   ],
   "source": [
    "cb.keys()"
   ]
  },
  {
   "cell_type": "code",
   "execution_count": 13,
   "metadata": {},
   "outputs": [
    {
     "data": {
      "text/plain": [
       "{'author': '0xea674fdde714fd979de3edf0f56aa9716b898ec8',\n",
       " 'difficulty': 3189888650752092,\n",
       " 'extraData': HexBytes('0x65746865726d696e652d6177732d7573312d33'),\n",
       " 'gasLimit': 8000029,\n",
       " 'gasUsed': 7974869,\n",
       " 'hash': HexBytes('0xb60429ca96eba9815431f4ecee3213d6a193ce08bcdb99dc5c175552e1ab6777'),\n",
       " 'logsBloom': HexBytes('0x00000000000408000000000000000000000000000000000000000000000000000000000000000000000000000001000000000000200000000000000000000000000000000000040000100008000020000000000000000000000000000000000000200000020000100000008000200800000000000000000000100090100000000000000000000000000000000000000000000282000000000000000000000000080000000000000000000000000000001000000020004000000000008040000000000082000000500100000000000000000020200000004000000000000020000000010000000000000000000000000000010001000000400000000200000000'),\n",
       " 'miner': '0xEA674fdDe714fd979de3EdF0F56AA9716B898ec8',\n",
       " 'mixHash': HexBytes('0xa59a17525c08c90f678ad5fffdeef429edb419bbae6e22cc62cf343e4fc98191'),\n",
       " 'nonce': HexBytes('0xf456fbe005789fae'),\n",
       " 'number': 5395528,\n",
       " 'parentHash': HexBytes('0x3ed6bdad43f9bb895a33ae4a49260c16c20c9319d750db9f6ca452c2a6f38124'),\n",
       " 'receiptsRoot': HexBytes('0xa339fefd02de0652dc27febce138ae825c934571e595bf3d4a54fca2c1ed6a44'),\n",
       " 'sealFields': ['0xa0a59a17525c08c90f678ad5fffdeef429edb419bbae6e22cc62cf343e4fc98191',\n",
       "  '0x88f456fbe005789fae'],\n",
       " 'sha3Uncles': HexBytes('0x1dcc4de8dec75d7aab85b567b6ccd41ad312451b948a7413f0a142fd40d49347'),\n",
       " 'size': 2379,\n",
       " 'stateRoot': HexBytes('0x1a4d62758ce923800b588e59cc3e7bb734bd153b07f196aee4132ba5695beac4'),\n",
       " 'timestamp': 1523081108,\n",
       " 'totalDifficulty': 3498508825946934464515,\n",
       " 'transactions': [HexBytes('0xb6b18a3aa77a96964dbc192b1ee701e7cf2f42d7dca99e8f7e42ac10baa1f5f7'),\n",
       "  HexBytes('0x148722caa653902b1242e4e156ff3fef34ca465200dc57e28d7d1c584a0ea1a1'),\n",
       "  HexBytes('0x62fafcefbe0ff7130beb7ebb2bfe6667b3133214c75251680d0cf4d6b14a19b2'),\n",
       "  HexBytes('0x5b846f9517fba8773bfb98b6845ac8a37b04425ae91cb8344cb80d74cbc945ed'),\n",
       "  HexBytes('0x4a64ea84abe326f07349fc02ce6baad06a0186921a692bedce0f70a4e25e313c'),\n",
       "  HexBytes('0xf3c083ce4bcf4d91d217857aa89e1b8141c8f626724ddc9309160ca75ba3fc3b'),\n",
       "  HexBytes('0xabd67da8a10d7145030f77e524716af96e5589ab1f61be969513d6673b49ae29'),\n",
       "  HexBytes('0x8c3cc44426d0042a0f6da061da0280a838113878e195591176b6bf615031635c'),\n",
       "  HexBytes('0xef81f31e71ed701b6a3454b26e32ad8d854ecc2637102dc8772dd34bf9124478'),\n",
       "  HexBytes('0xf6944266c1d72728f20c3d2a2c0f31cb2ca64758a77b45f5054f58a28a74bf39'),\n",
       "  HexBytes('0x41cd54ee64c5492d867fe31f8f631fd9294b9865b63d99dfa2f8103a67cd1f71'),\n",
       "  HexBytes('0x49fe93c9c10016f544a279ff6bc2cb6d44adefafa50918409357f13e8251867a'),\n",
       "  HexBytes('0xc3920e679e1e33ef18b7e63465d6b0c40362b41163014d881aa363492c3804d2'),\n",
       "  HexBytes('0x604d6c42ef710b4c476baca946203d30d926c747e0932959a96d97514fb0ed41')],\n",
       " 'transactionsRoot': HexBytes('0x8e4dfddf4e2bb40414446fe958bc6b32fdd7e83eac9e335a8c7616ac19225470'),\n",
       " 'uncles': []}"
      ]
     },
     "execution_count": 13,
     "metadata": {},
     "output_type": "execute_result"
    }
   ],
   "source": [
    "cb"
   ]
  },
  {
   "cell_type": "code",
   "execution_count": null,
   "metadata": {},
   "outputs": [],
   "source": []
  }
 ],
 "metadata": {
  "kernelspec": {
   "display_name": "Python 3",
   "language": "python",
   "name": "python3"
  },
  "language_info": {
   "codemirror_mode": {
    "name": "ipython",
    "version": 3
   },
   "file_extension": ".py",
   "mimetype": "text/x-python",
   "name": "python",
   "nbconvert_exporter": "python",
   "pygments_lexer": "ipython3",
   "version": "3.6.5"
  }
 },
 "nbformat": 4,
 "nbformat_minor": 2
}
