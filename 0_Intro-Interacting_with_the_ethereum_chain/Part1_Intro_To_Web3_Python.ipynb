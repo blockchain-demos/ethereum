{
 "cells": [
  {
   "cell_type": "markdown",
   "metadata": {},
   "source": [
    "# Import ethereum tools and test connection\n",
    "web3 is a python library for interacting with Ethereum http://web3py.readthedocs.io/en/stable/"
   ]
  },
  {
   "cell_type": "code",
   "execution_count": 3,
   "metadata": {},
   "outputs": [
    {
     "name": "stdout",
     "output_type": "stream",
     "text": [
      "Latest block: 5413758\n"
     ]
    }
   ],
   "source": [
    "from web3 import Web3, HTTPProvider, IPCProvider\n",
    "\n",
    "gethRPCUrl='http://192.168.1.185:8545'\n",
    "web3 = Web3(HTTPProvider(gethRPCUrl))\n",
    "\n",
    "# Retrieve the last block number available from geth RPC\n",
    "currentblock = web3.eth.getBlock('latest').number\n",
    "print(\"Latest block: \" + str(currentblock))"
   ]
  },
  {
   "cell_type": "markdown",
   "metadata": {},
   "source": [
    "### Lets retrieve the first block on the Ethereum chain:"
   ]
  },
  {
   "cell_type": "code",
   "execution_count": 4,
   "metadata": {},
   "outputs": [
    {
     "data": {
      "text/plain": [
       "AttributeDict({'author': '0x05a56e2d52c817161883f50c441c3228cfe54d9f',\n",
       " 'difficulty': 17171480576,\n",
       " 'extraData': '0x476574682f76312e302e302f6c696e75782f676f312e342e32',\n",
       " 'gasLimit': 5000,\n",
       " 'gasUsed': 0,\n",
       " 'hash': '0x88e96d4537bea4d9c05d12549907b32561d3bf31f45aae734cdc119f13406cb6',\n",
       " 'logsBloom': '0x00000000000000000000000000000000000000000000000000000000000000000000000000000000000000000000000000000000000000000000000000000000000000000000000000000000000000000000000000000000000000000000000000000000000000000000000000000000000000000000000000000000000000000000000000000000000000000000000000000000000000000000000000000000000000000000000000000000000000000000000000000000000000000000000000000000000000000000000000000000000000000000000000000000000000000000000000000000000000000000000000000000000000000000000000000000',\n",
       " 'miner': '0x05a56e2d52c817161883f50c441c3228cfe54d9f',\n",
       " 'mixHash': '0x969b900de27b6ac6a67742365dd65f55a0526c41fd18e1b16f1a1215c2e66f59',\n",
       " 'nonce': '0x539bd4979fef1ec4',\n",
       " 'number': 1,\n",
       " 'parentHash': '0xd4e56740f876aef8c010b86a40d5f56745a118d0906a34e69aec8c0db1cb8fa3',\n",
       " 'receiptsRoot': '0x56e81f171bcc55a6ff8345e692c0f86e5b48e01b996cadc001622fb5e363b421',\n",
       " 'sealFields': ['0xa0969b900de27b6ac6a67742365dd65f55a0526c41fd18e1b16f1a1215c2e66f59',\n",
       "  '0x88539bd4979fef1ec4'],\n",
       " 'sha3Uncles': '0x1dcc4de8dec75d7aab85b567b6ccd41ad312451b948a7413f0a142fd40d49347',\n",
       " 'size': 537,\n",
       " 'stateRoot': '0xd67e4d450343046425ae4271474353857ab860dbc0a1dde64b41b5cd3a532bf3',\n",
       " 'timestamp': 1438269988,\n",
       " 'totalDifficulty': 34351349760,\n",
       " 'transactions': [],\n",
       " 'transactionsRoot': '0x56e81f171bcc55a6ff8345e692c0f86e5b48e01b996cadc001622fb5e363b421',\n",
       " 'uncles': []})"
      ]
     },
     "execution_count": 4,
     "metadata": {},
     "output_type": "execute_result"
    }
   ],
   "source": [
    "web3.eth.getBlock(1,full_transactions=True)"
   ]
  },
  {
   "cell_type": "markdown",
   "metadata": {},
   "source": [
    "**Notice the empty list of transactions: ** \n",
    "```\n",
    "'transactions': [],\n",
    "```\n",
    "\n",
    "We can find the **first transaction** posted to the blockchain via:\n",
    "```\n",
    "for x in range(0,50000):\n",
    "    if len(dict(web3.eth.getBlock(x))['transactions']) > 0:\n",
    "        print(\"First block with transactions: \" + str(x))\n",
    "        break\n",
    "        \n",
    "```\n",
    "This query could take 1-2 hours for geth to retrieve these historical blocks, as not many peers will have the full (~1TB) Chain synced. Most peers run in \"light\" mode, allowing them to go to the latest block first.\n",
    "\n",
    "Results of the query show:\n",
    "```\n",
    "First block with transactions: 46147\n",
    "        \n",
    "```\n",
    "\n",
    "**Lets retrieve the first block with transactions and display as python dict**"
   ]
  },
  {
   "cell_type": "code",
   "execution_count": 5,
   "metadata": {},
   "outputs": [
    {
     "data": {
      "text/plain": [
       "{'author': '0xe6a7a1d47ff21b6321162aea7c6cb457d5476bca',\n",
       " 'difficulty': 1458282699709,\n",
       " 'extraData': '0x657468706f6f6c2e6f7267',\n",
       " 'gasLimit': 21003,\n",
       " 'gasUsed': 21000,\n",
       " 'hash': '0x4e3a3754410177e6937ef1f84bba68ea139e8d1a2258c5f85db9f1cd715a1bdd',\n",
       " 'logsBloom': '0x00000000000000000000000000000000000000000000000000000000000000000000000000000000000000000000000000000000000000000000000000000000000000000000000000000000000000000000000000000000000000000000000000000000000000000000000000000000000000000000000000000000000000000000000000000000000000000000000000000000000000000000000000000000000000000000000000000000000000000000000000000000000000000000000000000000000000000000000000000000000000000000000000000000000000000000000000000000000000000000000000000000000000000000000000000000',\n",
       " 'miner': '0xe6a7a1d47ff21b6321162aea7c6cb457d5476bca',\n",
       " 'mixHash': '0xb48c515a9dde8d346c3337ea520aa995a4738bb595495506125449c1149d6cf4',\n",
       " 'nonce': '0xba4f8ecd18aab215',\n",
       " 'number': 46147,\n",
       " 'parentHash': '0x5a41d0e66b4120775176c09fcf39e7c0520517a13d2b57b18d33d342df038bfc',\n",
       " 'receiptsRoot': '0xfe2bf2a941abf41d72637e5b91750332a30283efd40c424dc522b77e6f0ed8c4',\n",
       " 'sealFields': ['0xa0b48c515a9dde8d346c3337ea520aa995a4738bb595495506125449c1149d6cf4',\n",
       "  '0x88ba4f8ecd18aab215'],\n",
       " 'sha3Uncles': '0x1dcc4de8dec75d7aab85b567b6ccd41ad312451b948a7413f0a142fd40d49347',\n",
       " 'size': 634,\n",
       " 'stateRoot': '0x0e0df2706b0a4fb8bd08c9246d472abbe850af446405d9eba1db41db18b4a169',\n",
       " 'timestamp': 1438918233,\n",
       " 'totalDifficulty': 42684150077831833,\n",
       " 'transactions': [AttributeDict({'blockHash': '0x4e3a3754410177e6937ef1f84bba68ea139e8d1a2258c5f85db9f1cd715a1bdd',\n",
       "   'blockNumber': 46147,\n",
       "   'chainId': None,\n",
       "   'condition': None,\n",
       "   'creates': None,\n",
       "   'from': '0xA1E4380A3B1f749673E270229993eE55F35663b4',\n",
       "   'gas': 21000,\n",
       "   'gasPrice': 50000000000000,\n",
       "   'hash': '0x5c504ed432cb51138bcf09aa5e8a410dd4a1e204ef84bfed1be16dfba1b22060',\n",
       "   'input': '0x',\n",
       "   'nonce': 0,\n",
       "   'publicKey': '0x376fc429acc35e610f75b14bc96242b13623833569a5bb3d72c17be7e51da0bb58e48e2462a59897cead8ab88e78709f9d24fd6ec24d1456f43aae407a8970e4',\n",
       "   'r': '0x88ff6cf0fefd94db46111149ae4bfc179e9b94721fffd821d38d16464b3f71d0',\n",
       "   'raw': '0xf86780862d79883d2000825208945df9b87991262f6ba471f09758cde1c0fc1de734827a69801ca088ff6cf0fefd94db46111149ae4bfc179e9b94721fffd821d38d16464b3f71d0a045e0aff800961cfce805daef7016b9b675c137a6a41a548f7b60a3484c06a33a',\n",
       "   's': '0x45e0aff800961cfce805daef7016b9b675c137a6a41a548f7b60a3484c06a33a',\n",
       "   'standardV': '0x1',\n",
       "   'to': '0x5DF9B87991262F6BA471F09758CDE1c0FC1De734',\n",
       "   'transactionIndex': 0,\n",
       "   'v': '0x1c',\n",
       "   'value': 31337})],\n",
       " 'transactionsRoot': '0x4513310fcb9f6f616972a3b948dc5d547f280849a87ebb5af0191f98b87be598',\n",
       " 'uncles': []}"
      ]
     },
     "execution_count": 5,
     "metadata": {},
     "output_type": "execute_result"
    }
   ],
   "source": [
    "dict(web3.eth.getBlock(46147,full_transactions=True))"
   ]
  },
  {
   "cell_type": "markdown",
   "metadata": {},
   "source": [
    "---\n",
    "## 'leet' easter egg find: \n",
    "\n",
    "> `'value': 31337})],`\n",
    "\n",
    "This transaction corresponds to a transfer of 0.000000000000031337 ETH. \n",
    "\n",
    "- **value** - is returned in \"Wei\" Denomination, which here shows \"31337\" wei sent \n",
    "- **from** - wallet of the sender `0xA1E4380A3B1f749673E270229993eE55F35663b4` \n",
    "- **to** - wallet of the receiver `0x5DF9B87991262F6BA471F09758CDE1c0FC1De734`\n",
    "\n",
    "**value** is returned in \"wei\", which can be coverted as:\n",
    "\n",
    "| Denomination    | Amount in Wei   |\n",
    "| ------------- |:-------------:| \n",
    "| wei\t| 1    |\n",
    "| kwei\t| 1000 |\n",
    "| babbage\t\t| 1000 |\n",
    "| mwei\t| \t1000000 |\n",
    "| picoether\t\t| 1000000 | \n",
    "| gwei\t| \t1000000000 | \n",
    "| shannon\t\t| 1000000000 |\n",
    "| micro\t| \t1000000000000 |\n",
    "| finney\t\t| 1000000000000000 |\n",
    "| ether\t\t| 1000000000000000000 |\n",
    "| \n",
    "\n",
    "web3 provides some utilities for converting between these denominations [Full List](https://github.com/ethereum/web3.py/blob/master/docs/examples.rst)"
   ]
  },
  {
   "cell_type": "code",
   "execution_count": 6,
   "metadata": {},
   "outputs": [
    {
     "data": {
      "text/plain": [
       "Decimal('3.1337E-14')"
      ]
     },
     "execution_count": 6,
     "metadata": {},
     "output_type": "execute_result"
    }
   ],
   "source": [
    "web3.fromWei(31337, unit='ether')"
   ]
  },
  {
   "cell_type": "markdown",
   "metadata": {},
   "source": [
    "---\n",
    "## Retrieving Block Metadata in range of blocks\n",
    "We can define a method **getBlockRange** to retrieve block metadata for each block in a range"
   ]
  },
  {
   "cell_type": "code",
   "execution_count": 41,
   "metadata": {},
   "outputs": [],
   "source": [
    "def getBlockRange(blockstart,blockend):\n",
    "    blocksDict = [ ]\n",
    "    \n",
    "    for block in range(blockstart,blockend):\n",
    "        \n",
    "        blocksDict.append(dict(web3.eth.getBlock(block,full_transactions=False)))\n",
    "        \n",
    "    return blocksDict"
   ]
  },
  {
   "cell_type": "markdown",
   "metadata": {},
   "source": [
    "### Verify length of blocks retrieved and view contents"
   ]
  },
  {
   "cell_type": "code",
   "execution_count": 42,
   "metadata": {},
   "outputs": [
    {
     "data": {
      "text/plain": [
       "3"
      ]
     },
     "execution_count": 42,
     "metadata": {},
     "output_type": "execute_result"
    }
   ],
   "source": [
    "threeblocks=getBlockRange(46147,46150)\n",
    "len(threeblocks)"
   ]
  },
  {
   "cell_type": "code",
   "execution_count": 43,
   "metadata": {},
   "outputs": [
    {
     "data": {
      "text/plain": [
       "dict_keys(['author', 'difficulty', 'extraData', 'gasLimit', 'gasUsed', 'hash', 'logsBloom', 'miner', 'mixHash', 'nonce', 'number', 'parentHash', 'receiptsRoot', 'sealFields', 'sha3Uncles', 'size', 'stateRoot', 'timestamp', 'totalDifficulty', 'transactions', 'transactionsRoot', 'uncles'])"
      ]
     },
     "execution_count": 43,
     "metadata": {},
     "output_type": "execute_result"
    }
   ],
   "source": [
    "threeblocks[0].keys()"
   ]
  },
  {
   "cell_type": "code",
   "execution_count": 44,
   "metadata": {},
   "outputs": [
    {
     "data": {
      "text/plain": [
       "{'author': '0xe6a7a1d47ff21b6321162aea7c6cb457d5476bca',\n",
       " 'difficulty': 1458282699709,\n",
       " 'extraData': '0x657468706f6f6c2e6f7267',\n",
       " 'gasLimit': 21003,\n",
       " 'gasUsed': 21000,\n",
       " 'hash': '0x4e3a3754410177e6937ef1f84bba68ea139e8d1a2258c5f85db9f1cd715a1bdd',\n",
       " 'logsBloom': '0x00000000000000000000000000000000000000000000000000000000000000000000000000000000000000000000000000000000000000000000000000000000000000000000000000000000000000000000000000000000000000000000000000000000000000000000000000000000000000000000000000000000000000000000000000000000000000000000000000000000000000000000000000000000000000000000000000000000000000000000000000000000000000000000000000000000000000000000000000000000000000000000000000000000000000000000000000000000000000000000000000000000000000000000000000000000',\n",
       " 'miner': '0xe6a7a1d47ff21b6321162aea7c6cb457d5476bca',\n",
       " 'mixHash': '0xb48c515a9dde8d346c3337ea520aa995a4738bb595495506125449c1149d6cf4',\n",
       " 'nonce': '0xba4f8ecd18aab215',\n",
       " 'number': 46147,\n",
       " 'parentHash': '0x5a41d0e66b4120775176c09fcf39e7c0520517a13d2b57b18d33d342df038bfc',\n",
       " 'receiptsRoot': '0xfe2bf2a941abf41d72637e5b91750332a30283efd40c424dc522b77e6f0ed8c4',\n",
       " 'sealFields': ['0xa0b48c515a9dde8d346c3337ea520aa995a4738bb595495506125449c1149d6cf4',\n",
       "  '0x88ba4f8ecd18aab215'],\n",
       " 'sha3Uncles': '0x1dcc4de8dec75d7aab85b567b6ccd41ad312451b948a7413f0a142fd40d49347',\n",
       " 'size': 634,\n",
       " 'stateRoot': '0x0e0df2706b0a4fb8bd08c9246d472abbe850af446405d9eba1db41db18b4a169',\n",
       " 'timestamp': 1438918233,\n",
       " 'totalDifficulty': 42684150077831833,\n",
       " 'transactions': ['0x5c504ed432cb51138bcf09aa5e8a410dd4a1e204ef84bfed1be16dfba1b22060'],\n",
       " 'transactionsRoot': '0x4513310fcb9f6f616972a3b948dc5d547f280849a87ebb5af0191f98b87be598',\n",
       " 'uncles': []}"
      ]
     },
     "execution_count": 44,
     "metadata": {},
     "output_type": "execute_result"
    }
   ],
   "source": [
    "threeblocks[0]"
   ]
  },
  {
   "cell_type": "markdown",
   "metadata": {},
   "source": [
    "---\n",
    "## Retrieving transaction details in a range of blocks"
   ]
  },
  {
   "cell_type": "code",
   "execution_count": 75,
   "metadata": {},
   "outputs": [],
   "source": [
    "def getTransactionsInRange(blockstart,blockend):\n",
    "    transactions_in_range=[]\n",
    "    for block in range(blockstart,blockend):       \n",
    "        transactions_in_block = web3.eth.getBlock(block,full_transactions=True)['transactions']\n",
    "        \n",
    "        # Append as dict(transaction)'s  '{}', to remove \"AttributeDict\" from each entry\n",
    "        for transaction in transactions_in_block:\n",
    "            transactions_in_range.append(dict(transaction))\n",
    "    return transactions_in_range    "
   ]
  },
  {
   "cell_type": "markdown",
   "metadata": {},
   "source": [
    "- **Query all transactions in last 3 blocks**"
   ]
  },
  {
   "cell_type": "code",
   "execution_count": 78,
   "metadata": {},
   "outputs": [
    {
     "name": "stdout",
     "output_type": "stream",
     "text": [
      "235 Transactions in current block\n",
      "\n",
      "{'blockHash': '0x5b7c23c80f897ab4222032ad21be743f4045c27712036138203efeff6c57c825', 'blockNumber': 5413952, 'chainId': '0x1', 'condition': None, 'creates': None, 'from': '0x55a5b62638b23f960101cBd94174AEFc5d78d53d', 'gas': 52586, 'gasPrice': 21000000000, 'hash': '0xbf364f787047ed7868b916f59e150b36af106b39bff24e099def90f9a8b3bcd3', 'input': '0xa9059cbb000000000000000000000000f585c155f487c14a8e7602736ef07293ed52f34200000000000000000000000000000000000000000000001b0755ef8f5cf02a00', 'nonce': 0, 'publicKey': '0x11f4baea506b9b950fff3dd9c517817ab9d88ac628af6874161ae3cfd3dd17519b4a240c6319081a3c19c659d0e0274f070a3ba128da22411d87114bd4035f31', 'r': '0x7941b421bda0869eb03e3cd7055aa5bd509775605d726a5542b462daae084761', 'raw': '0xf8a9808504e3b2920082cd6a9472dd4b6bd852a3aa172be4d6c5a6dbec588cf13180b844a9059cbb000000000000000000000000f585c155f487c14a8e7602736ef07293ed52f34200000000000000000000000000000000000000000000001b0755ef8f5cf02a0025a07941b421bda0869eb03e3cd7055aa5bd509775605d726a5542b462daae084761a010bdf645203eb22e4a5f50ce8416bda82c5ee472c9aa1ec9e8006c37e67a9101', 's': '0x10bdf645203eb22e4a5f50ce8416bda82c5ee472c9aa1ec9e8006c37e67a9101', 'standardV': '0x0', 'to': '0x72dD4b6bd852A3AA172Be4d6C5a6dbEc588cf131', 'transactionIndex': 0, 'v': '0x25', 'value': 0}\n"
     ]
    }
   ],
   "source": [
    "currentblock = web3.eth.getBlock('latest').number\n",
    "txs_view = getTransactionsInRange(blockstart=currentblock-3,\n",
    "                                  blockend=currentblock)\n",
    "print(str(len(txs_view)) + \" Transactions in current block\\n\")\n",
    "\n"
   ]
  },
  {
   "cell_type": "markdown",
   "metadata": {},
   "source": [
    "- **Print one transaction from the retrieved data set**"
   ]
  },
  {
   "cell_type": "code",
   "execution_count": 79,
   "metadata": {},
   "outputs": [
    {
     "name": "stdout",
     "output_type": "stream",
     "text": [
      "{'blockHash': '0x5b7c23c80f897ab4222032ad21be743f4045c27712036138203efeff6c57c825', 'blockNumber': 5413952, 'chainId': '0x1', 'condition': None, 'creates': None, 'from': '0x55a5b62638b23f960101cBd94174AEFc5d78d53d', 'gas': 52586, 'gasPrice': 21000000000, 'hash': '0xbf364f787047ed7868b916f59e150b36af106b39bff24e099def90f9a8b3bcd3', 'input': '0xa9059cbb000000000000000000000000f585c155f487c14a8e7602736ef07293ed52f34200000000000000000000000000000000000000000000001b0755ef8f5cf02a00', 'nonce': 0, 'publicKey': '0x11f4baea506b9b950fff3dd9c517817ab9d88ac628af6874161ae3cfd3dd17519b4a240c6319081a3c19c659d0e0274f070a3ba128da22411d87114bd4035f31', 'r': '0x7941b421bda0869eb03e3cd7055aa5bd509775605d726a5542b462daae084761', 'raw': '0xf8a9808504e3b2920082cd6a9472dd4b6bd852a3aa172be4d6c5a6dbec588cf13180b844a9059cbb000000000000000000000000f585c155f487c14a8e7602736ef07293ed52f34200000000000000000000000000000000000000000000001b0755ef8f5cf02a0025a07941b421bda0869eb03e3cd7055aa5bd509775605d726a5542b462daae084761a010bdf645203eb22e4a5f50ce8416bda82c5ee472c9aa1ec9e8006c37e67a9101', 's': '0x10bdf645203eb22e4a5f50ce8416bda82c5ee472c9aa1ec9e8006c37e67a9101', 'standardV': '0x0', 'to': '0x72dD4b6bd852A3AA172Be4d6C5a6dbEc588cf131', 'transactionIndex': 0, 'v': '0x25', 'value': 0}\n"
     ]
    }
   ],
   "source": [
    "print(txs_view[0])"
   ]
  },
  {
   "cell_type": "markdown",
   "metadata": {},
   "source": [
    "- **Print the schema**"
   ]
  },
  {
   "cell_type": "code",
   "execution_count": 80,
   "metadata": {},
   "outputs": [
    {
     "data": {
      "text/plain": [
       "dict_keys(['blockHash', 'blockNumber', 'chainId', 'condition', 'creates', 'from', 'gas', 'gasPrice', 'hash', 'input', 'nonce', 'publicKey', 'r', 'raw', 's', 'standardV', 'to', 'transactionIndex', 'v', 'value'])"
      ]
     },
     "execution_count": 80,
     "metadata": {},
     "output_type": "execute_result"
    }
   ],
   "source": [
    "txs_view[0].keys()"
   ]
  },
  {
   "cell_type": "markdown",
   "metadata": {},
   "source": [
    "---\n",
    "## Analyzing the blocks\n",
    "In `dict(web3.eth.getBlock(46147,full_transactions=True))`, we retrieve an **AttributeDict**, which holds additional information about each transaction:\n",
    "```\n",
    "'transactions': [AttributeDict({'blockHash': '0x4e3a3754410177e6937ef1f84bba68ea139e8d1a2258c5f85db9f1cd715a1bdd',\n",
    "   'blockNumber': 46147,\n",
    "   'chainId': None,\n",
    "   'condition': None,\n",
    "   'creates': None,\n",
    "   'from': '0xA1E4380A3B1f749673E270229993eE55F35663b4',\n",
    "   'gas': 21000,\n",
    "```\n",
    "\n",
    "\n",
    "In `threeblocks[0]`, we only retrieve a the block metadata, and a list of the transaction hashes:\n",
    "```\n",
    "'transactions': ['0x5c504ed432cb51138bcf09aa5e8a410dd4a1e204ef84bfed1be16dfba1b22060'],\n",
    "```\n",
    "\n",
    "The **full_transactions=False** approach may be preferrable, to easily **split** your data/tables into:\n",
    "- **Blocks** \n",
    "\n",
    "    `dict_keys(['author', 'difficulty', 'extraData', 'gasLimit', 'gasUsed', 'hash', 'logsBloom', 'miner', 'mixHash', 'nonce', 'number', 'parentHash', 'receiptsRoot', 'sealFields', 'sha3Uncles', 'size', 'stateRoot', 'timestamp', 'totalDifficulty', 'transactions', 'transactionsRoot', 'uncles'])`\n",
    "- **Transactions** \n",
    "\n",
    "  `dict_keys(['blockHash', 'blockNumber', 'chainId', 'condition', 'creates', 'from', 'gas', 'gasPrice', 'hash', 'input', 'nonce', 'publicKey', 'r', 'raw', 's', 'standardV', 'to', 'transactionIndex', 'v', 'value'])`\n",
    "\n",
    "- **Event Logs** \n",
    "\n",
    "  `Covered in later demos`"
   ]
  },
  {
   "cell_type": "code",
   "execution_count": null,
   "metadata": {},
   "outputs": [],
   "source": []
  }
 ],
 "metadata": {
  "kernelspec": {
   "display_name": "Python 3",
   "language": "python",
   "name": "python3"
  },
  "language_info": {
   "codemirror_mode": {
    "name": "ipython",
    "version": 3
   },
   "file_extension": ".py",
   "mimetype": "text/x-python",
   "name": "python",
   "nbconvert_exporter": "python",
   "pygments_lexer": "ipython3",
   "version": "3.6.5"
  }
 },
 "nbformat": 4,
 "nbformat_minor": 2
}
